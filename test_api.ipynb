{
 "cells": [
  {
   "cell_type": "code",
   "execution_count": 1,
   "metadata": {},
   "outputs": [],
   "source": [
    "import pandas as pd\n",
    "import nvdlib"
   ]
  },
  {
   "cell_type": "code",
   "execution_count": 2,
   "metadata": {},
   "outputs": [],
   "source": [
    "# test api nvdlib\n",
    "# vul = nvdlib.searchCVE(cweId='CWE-20')\n",
    "# print(len(vul))\n",
    "# print(type(vul[0]))\n",
    "# print(vul[-1].url)"
   ]
  },
  {
   "cell_type": "code",
   "execution_count": 3,
   "metadata": {},
   "outputs": [
    {
     "data": {
      "text/plain": [
       "{'A01_2021-Broken_Access_Control': ['CWE-22',\n",
       "  'CWE-23',\n",
       "  'CWE-35',\n",
       "  'CWE-59',\n",
       "  'CWE-200',\n",
       "  'CWE-201',\n",
       "  'CWE-219',\n",
       "  'CWE-264',\n",
       "  'CWE-275',\n",
       "  'CWE-276',\n",
       "  'CWE-284',\n",
       "  'CWE-285',\n",
       "  'CWE-352',\n",
       "  'CWE-359',\n",
       "  'CWE-377',\n",
       "  'CWE-402',\n",
       "  'CWE-425',\n",
       "  'CWE-441',\n",
       "  'CWE-497',\n",
       "  'CWE-538',\n",
       "  'CWE-540',\n",
       "  'CWE-548',\n",
       "  'CWE-552',\n",
       "  'CWE-566',\n",
       "  'CWE-601',\n",
       "  'CWE-639',\n",
       "  'CWE-651',\n",
       "  'CWE-668',\n",
       "  'CWE-706',\n",
       "  'CWE-862',\n",
       "  'CWE-863',\n",
       "  'CWE-913',\n",
       "  'CWE-922',\n",
       "  'CWE-1275'],\n",
       " 'A02_2021-Cryptographic_Failures': ['CWE-261',\n",
       "  'CWE-296',\n",
       "  'CWE-310',\n",
       "  'CWE-319',\n",
       "  'CWE-321',\n",
       "  'CWE-322',\n",
       "  'CWE-323',\n",
       "  'CWE-324',\n",
       "  'CWE-325',\n",
       "  'CWE-326',\n",
       "  'CWE-327',\n",
       "  'CWE-328',\n",
       "  'CWE-329',\n",
       "  'CWE-330',\n",
       "  'CWE-331',\n",
       "  'CWE-335',\n",
       "  'CWE-336',\n",
       "  'CWE-337',\n",
       "  'CWE-338',\n",
       "  'CWE-340',\n",
       "  'CWE-347',\n",
       "  'CWE-523',\n",
       "  'CWE-720',\n",
       "  'CWE-757',\n",
       "  'CWE-759',\n",
       "  'CWE-760',\n",
       "  'CWE-780',\n",
       "  'CWE-818',\n",
       "  'CWE-916'],\n",
       " 'A03_2021-Injection': ['CWE-20',\n",
       "  'CWE-74',\n",
       "  'CWE-75',\n",
       "  'CWE-77',\n",
       "  'CWE-78',\n",
       "  'CWE-79',\n",
       "  'CWE-80',\n",
       "  'CWE-83',\n",
       "  'CWE-87',\n",
       "  'CWE-88',\n",
       "  'CWE-89',\n",
       "  'CWE-90',\n",
       "  'CWE-91',\n",
       "  'CWE-93',\n",
       "  'CWE-94',\n",
       "  'CWE-95',\n",
       "  'CWE-96',\n",
       "  'CWE-97',\n",
       "  'CWE-98',\n",
       "  'CWE-99',\n",
       "  'CWE-100',\n",
       "  'CWE-113',\n",
       "  'CWE-116',\n",
       "  'CWE-138',\n",
       "  'CWE-184',\n",
       "  'CWE-470',\n",
       "  'CWE-471',\n",
       "  'CWE-564',\n",
       "  'CWE-610',\n",
       "  'CWE-643',\n",
       "  'CWE-644',\n",
       "  'CWE-652',\n",
       "  'CWE-917'],\n",
       " 'A04_2021-Insecure_Design': ['CWE-73',\n",
       "  'CWE-183',\n",
       "  'CWE-209',\n",
       "  'CWE-213',\n",
       "  'CWE-235',\n",
       "  'CWE-256',\n",
       "  'CWE-257',\n",
       "  'CWE-266',\n",
       "  'CWE-269',\n",
       "  'CWE-280',\n",
       "  'CWE-311',\n",
       "  'CWE-312',\n",
       "  'CWE-313',\n",
       "  'CWE-316',\n",
       "  'CWE-419',\n",
       "  'CWE-430',\n",
       "  'CWE-434',\n",
       "  'CWE-444',\n",
       "  'CWE-451',\n",
       "  'CWE-472',\n",
       "  'CWE-501',\n",
       "  'CWE-522',\n",
       "  'CWE-525',\n",
       "  'CWE-539',\n",
       "  'CWE-579',\n",
       "  'CWE-598',\n",
       "  'CWE-602',\n",
       "  'CWE-642',\n",
       "  'CWE-646',\n",
       "  'CWE-650',\n",
       "  'CWE-653',\n",
       "  'CWE-656',\n",
       "  'CWE-657',\n",
       "  'CWE-799',\n",
       "  'CWE-807',\n",
       "  'CWE-840',\n",
       "  'CWE-841',\n",
       "  'CWE-927',\n",
       "  'CWE-1021',\n",
       "  'CWE-1173'],\n",
       " 'A05_2021-Security_Misconfiguration': ['CWE-2',\n",
       "  'CWE-11',\n",
       "  'CWE-13',\n",
       "  'CWE-15',\n",
       "  'CWE-16',\n",
       "  'CWE-260',\n",
       "  'CWE-315',\n",
       "  'CWE-520',\n",
       "  'CWE-526',\n",
       "  'CWE-537',\n",
       "  'CWE-541',\n",
       "  'CWE-547',\n",
       "  'CWE-611',\n",
       "  'CWE-614',\n",
       "  'CWE-756',\n",
       "  'CWE-776',\n",
       "  'CWE-942',\n",
       "  'CWE-1004',\n",
       "  'CWE-1032',\n",
       "  'CWE-1174'],\n",
       " 'A06_2021-Vulnerable_and_Outdated_Components': ['CWE-937',\n",
       "  'CWE-1035',\n",
       "  'CWE-1104'],\n",
       " 'A07_2021-Identification_and_Authentication_Failures': ['CWE-255',\n",
       "  'CWE-259',\n",
       "  'CWE-287',\n",
       "  'CWE-288',\n",
       "  'CWE-290',\n",
       "  'CWE-294',\n",
       "  'CWE-295',\n",
       "  'CWE-297',\n",
       "  'CWE-300',\n",
       "  'CWE-302',\n",
       "  'CWE-304',\n",
       "  'CWE-306',\n",
       "  'CWE-307',\n",
       "  'CWE-346',\n",
       "  'CWE-384',\n",
       "  'CWE-521',\n",
       "  'CWE-613',\n",
       "  'CWE-620',\n",
       "  'CWE-640',\n",
       "  'CWE-798',\n",
       "  'CWE-940',\n",
       "  'CWE-1216'],\n",
       " 'A08_2021-Software_and_Data_Integrity_Failures': ['CWE-345',\n",
       "  'CWE-353',\n",
       "  'CWE-426',\n",
       "  'CWE-494',\n",
       "  'CWE-502',\n",
       "  'CWE-565',\n",
       "  'CWE-784',\n",
       "  'CWE-829',\n",
       "  'CWE-830',\n",
       "  'CWE-915'],\n",
       " 'A09_2021-Security_Logging_and_Monitoring_Failures': ['CWE-117',\n",
       "  'CWE-223',\n",
       "  'CWE-532',\n",
       "  'CWE-778'],\n",
       " 'A10_2021-Server-Side_Request_Forgery_%28SSRF%29': ['CWE-918']}"
      ]
     },
     "execution_count": 3,
     "metadata": {},
     "output_type": "execute_result"
    }
   ],
   "source": [
    "from scrape_owasp_cwe import scrap_CWEs\n",
    "# scrape all owasp cwe\n",
    "owasp_cwe = scrap_CWEs()\n",
    "owasp_cwe"
   ]
  },
  {
   "cell_type": "code",
   "execution_count": 4,
   "metadata": {},
   "outputs": [
    {
     "data": {
      "text/plain": [
       "list"
      ]
     },
     "execution_count": 4,
     "metadata": {},
     "output_type": "execute_result"
    }
   ],
   "source": [
    "ssrf = nvdlib.searchCVE(cweId='CWE-918')\n",
    "len(ssrf)\n",
    "type(ssrf)"
   ]
  },
  {
   "cell_type": "code",
   "execution_count": 5,
   "metadata": {},
   "outputs": [
    {
     "name": "stdout",
     "output_type": "stream",
     "text": [
      "{'id': 'CVE-2016-4374', 'sourceIdentifier': 'cve@mitre.org', 'published': '2016-08-08T00:59:10.627', 'lastModified': '2016-11-28T20:17:36.740', 'vulnStatus': 'Modified', 'descriptions': [{'lang': 'en', 'value': 'HPE Release Control (RC) 9.13, 9.20, and 9.21 before 9.21.0005 p4 allows remote authenticated users to conduct server-side request forgery (SSRF) attacks, and consequently obtain sensitive information or cause a denial of service, via unspecified vectors.'}, {'lang': 'es', 'value': 'HPE Release Control (RC) 9.13, 9.20 y 9.21 en versiones anteriores a 9.21.0005 p4 permite a usuarios remotos autenticados llevar a cabo ataques de SSRF, y consecuentemente obtener información sensible o provocar una denegación de servicio, a través de vectores no especificados.'}], 'metrics': {'cvssMetricV30': [{'source': 'nvd@nist.gov', 'type': 'Primary', 'cvssData': {'version': '3.0', 'vectorString': 'CVSS:3.0/AV:N/AC:L/PR:L/UI:N/S:C/C:N/I:H/A:N', 'attackVector': 'NETWORK', 'attackComplexity': 'LOW', 'privilegesRequired': 'LOW', 'userInteraction': 'NONE', 'scope': 'CHANGED', 'confidentialityImpact': 'NONE', 'integrityImpact': 'HIGH', 'availabilityImpact': 'NONE', 'baseScore': 7.7, 'baseSeverity': 'HIGH'}, 'exploitabilityScore': 3.1, 'impactScore': 4.0}], 'cvssMetricV2': [{'source': 'nvd@nist.gov', 'type': 'Primary', 'cvssData': {'version': '2.0', 'vectorString': 'AV:N/AC:L/Au:S/C:N/I:P/A:N', 'accessVector': 'NETWORK', 'accessComplexity': 'LOW', 'authentication': 'SINGLE', 'confidentialityImpact': 'NONE', 'integrityImpact': 'PARTIAL', 'availabilityImpact': 'NONE', 'baseScore': 4.0}, 'baseSeverity': 'MEDIUM', 'exploitabilityScore': 8.0, 'impactScore': 2.9, 'acInsufInfo': False, 'obtainAllPrivilege': False, 'obtainUserPrivilege': False, 'obtainOtherPrivilege': False, 'userInteractionRequired': False}]}, 'weaknesses': [{'source': 'nvd@nist.gov', 'type': 'Primary', 'description': [{'lang': 'en', 'value': 'CWE-918'}]}], 'configurations': [{'nodes': [{'operator': 'OR', 'negate': False, 'cpeMatch': [{'vulnerable': True, 'criteria': 'cpe:2.3:a:hp:release_control:9.13:*:*:*:*:*:*:*', 'matchCriteriaId': 'B045161D-3044-4F3B-9716-802CB483ACEC'}, {'vulnerable': True, 'criteria': 'cpe:2.3:a:hp:release_control:9.20:*:*:*:*:*:*:*', 'matchCriteriaId': '5327FD6C-4B63-497E-94D6-F899615EB323'}, {'vulnerable': True, 'criteria': 'cpe:2.3:a:hp:release_control:9.21:*:*:*:*:*:*:*', 'matchCriteriaId': 'C6CA51FA-998D-4BA3-8040-3DF73C45E77C'}]}]}], 'references': [{'url': 'http://www.securityfocus.com/bid/92357', 'source': 'cve@mitre.org'}, {'url': 'http://www.securitytracker.com/id/1036533', 'source': 'cve@mitre.org'}, {'url': 'https://h20566.www2.hpe.com/portal/site/hpsc/public/kb/docDisplay?docId=emr_na-c05219560', 'source': 'cve@mitre.org', 'tags': ['Mitigation', 'Patch', 'Vendor Advisory']}], 'cpe': [{'vulnerable': True, 'criteria': 'cpe:2.3:a:hp:release_control:9.13:*:*:*:*:*:*:*', 'matchCriteriaId': 'B045161D-3044-4F3B-9716-802CB483ACEC'}], 'cwe': [{'lang': 'en', 'value': 'CWE-918'}], 'url': 'https://nvd.nist.gov/vuln/detail/CVE-2016-4374', 'v30score': 7.7, 'v30vector': 'CVSS:3.0/AV:N/AC:L/PR:L/UI:N/S:C/C:N/I:H/A:N', 'v30severity': 'HIGH', 'v30exploitability': 3.1, 'v30impactScore': 4.0, 'v2score': 4.0, 'v2vector': 'AV:N/AC:L/Au:S/C:N/I:P/A:N', 'v2severity': 'MEDIUM', 'v2exploitability': 8.0, 'v2impactScore': 2.9, 'score': ['V30', 7.7, 'HIGH']}\n"
     ]
    }
   ],
   "source": [
    "print(ssrf[0])"
   ]
  },
  {
   "cell_type": "code",
   "execution_count": 16,
   "metadata": {},
   "outputs": [
    {
     "name": "stdout",
     "output_type": "stream",
     "text": [
      "CVE-2016-4374\n",
      "CWE-918\n",
      "HPE Release Control (RC) 9.13, 9.20, and 9.21 before 9.21.0005 p4 allows remote authenticated users to conduct server-side request forgery (SSRF) attacks, and consequently obtain sensitive information or cause a denial of service, via unspecified vectors.\n",
      "{'source': 'nvd@nist.gov', 'type': 'Primary', 'cvssData': {'version': '3.0', 'vectorString': 'CVSS:3.0/AV:N/AC:L/PR:L/UI:N/S:C/C:N/I:H/A:N', 'attackVector': 'NETWORK', 'attackComplexity': 'LOW', 'privilegesRequired': 'LOW', 'userInteraction': 'NONE', 'scope': 'CHANGED', 'confidentialityImpact': 'NONE', 'integrityImpact': 'HIGH', 'availabilityImpact': 'NONE', 'baseScore': 7.7, 'baseSeverity': 'HIGH'}, 'exploitabilityScore': 3.1, 'impactScore': 4.0}\n",
      "4.0\n",
      "{'source': 'nvd@nist.gov', 'type': 'Primary', 'cvssData': {'version': '2.0', 'vectorString': 'AV:N/AC:L/Au:S/C:N/I:P/A:N', 'accessVector': 'NETWORK', 'accessComplexity': 'LOW', 'authentication': 'SINGLE', 'confidentialityImpact': 'NONE', 'integrityImpact': 'PARTIAL', 'availabilityImpact': 'NONE', 'baseScore': 4.0}, 'baseSeverity': 'MEDIUM', 'exploitabilityScore': 8.0, 'impactScore': 2.9, 'acInsufInfo': False, 'obtainAllPrivilege': False, 'obtainUserPrivilege': False, 'obtainOtherPrivilege': False, 'userInteractionRequired': False}\n",
      "2.9\n",
      "[{'nodes': [{'operator': 'OR', 'negate': False, 'cpeMatch': [{'vulnerable': True, 'criteria': 'cpe:2.3:a:hp:release_control:9.13:*:*:*:*:*:*:*', 'matchCriteriaId': 'B045161D-3044-4F3B-9716-802CB483ACEC'}, {'vulnerable': True, 'criteria': 'cpe:2.3:a:hp:release_control:9.20:*:*:*:*:*:*:*', 'matchCriteriaId': '5327FD6C-4B63-497E-94D6-F899615EB323'}, {'vulnerable': True, 'criteria': 'cpe:2.3:a:hp:release_control:9.21:*:*:*:*:*:*:*', 'matchCriteriaId': 'C6CA51FA-998D-4BA3-8040-3DF73C45E77C'}]}]}]\n",
      "[{'url': 'http://www.securityfocus.com/bid/92357', 'source': 'cve@mitre.org'}, {'url': 'http://www.securitytracker.com/id/1036533', 'source': 'cve@mitre.org'}, {'url': 'https://h20566.www2.hpe.com/portal/site/hpsc/public/kb/docDisplay?docId=emr_na-c05219560', 'source': 'cve@mitre.org', 'tags': ['Mitigation', 'Patch', 'Vendor Advisory']}]\n"
     ]
    }
   ],
   "source": [
    "# retrieve usefull information\n",
    "print(ssrf[0].id)\n",
    "print(ssrf[0].cwe[0].value)\n",
    "print(ssrf[0].descriptions[0].value)\n",
    "print(ssrf[0].metrics.cvssMetricV30[0])\n",
    "print(ssrf[0].metrics.cvssMetricV30[0].impactScore)\n",
    "print(ssrf[0].metrics.cvssMetricV2[0])\n",
    "print(ssrf[0].metrics.cvssMetricV2[0].impactScore)\n",
    "print(ssrf[0].configurations)\n",
    "print(ssrf[0].references)"
   ]
  },
  {
   "cell_type": "code",
   "execution_count": 5,
   "metadata": {},
   "outputs": [
    {
     "name": "stdout",
     "output_type": "stream",
     "text": [
      "Collecting CVEs for CWE-22...\n",
      "Collecting CVEs for CWE-23...\n",
      "Collecting CVEs for CWE-35...\n",
      "Collecting CVEs for CWE-59...\n",
      "Collecting CVEs for CWE-200...\n",
      "Collecting CVEs for CWE-201...\n",
      "Collecting CVEs for CWE-219...\n",
      "Collecting CVEs for CWE-264...\n",
      "Collecting CVEs for CWE-275...\n",
      "Collecting CVEs for CWE-276...\n",
      "Collecting CVEs for CWE-284...\n",
      "Collecting CVEs for CWE-285...\n",
      "Collecting CVEs for CWE-352...\n",
      "Collecting CVEs for CWE-359...\n",
      "Collecting CVEs for CWE-377...\n",
      "Collecting CVEs for CWE-402...\n",
      "Collecting CVEs for CWE-425...\n",
      "Collecting CVEs for CWE-441...\n",
      "Collecting CVEs for CWE-497...\n",
      "Collecting CVEs for CWE-538...\n",
      "Collecting CVEs for CWE-540...\n",
      "Collecting CVEs for CWE-548...\n",
      "Collecting CVEs for CWE-552...\n",
      "Collecting CVEs for CWE-566...\n",
      "Collecting CVEs for CWE-601...\n",
      "Collecting CVEs for CWE-639...\n",
      "Collecting CVEs for CWE-651...\n",
      "Collecting CVEs for CWE-668...\n",
      "Collecting CVEs for CWE-706...\n",
      "Collecting CVEs for CWE-862...\n",
      "Collecting CVEs for CWE-863...\n",
      "Collecting CVEs for CWE-913...\n",
      "Collecting CVEs for CWE-922...\n",
      "Collecting CVEs for CWE-1275...\n",
      "Done!\n",
      "Collecting CVEs for CWE-261...\n",
      "Collecting CVEs for CWE-296...\n",
      "Collecting CVEs for CWE-310...\n",
      "Collecting CVEs for CWE-319...\n",
      "Collecting CVEs for CWE-321...\n",
      "Collecting CVEs for CWE-322...\n",
      "Collecting CVEs for CWE-323...\n",
      "Collecting CVEs for CWE-324...\n",
      "Collecting CVEs for CWE-325...\n"
     ]
    },
    {
     "ename": "KeyboardInterrupt",
     "evalue": "",
     "output_type": "error",
     "traceback": [
      "\u001b[0;31m---------------------------------------------------------------------------\u001b[0m",
      "\u001b[0;31mKeyboardInterrupt\u001b[0m                         Traceback (most recent call last)",
      "\u001b[1;32m/mnt/storage_6TB/ccurto/create_dataset/test_api.ipynb Cell 5\u001b[0m line \u001b[0;36m9\n\u001b[1;32m      <a href='vscode-notebook-cell://ssh-remote%2B151.97.13.187/mnt/storage_6TB/ccurto/create_dataset/test_api.ipynb#W4sdnNjb2RlLXJlbW90ZQ%3D%3D?line=6'>7</a>\u001b[0m \u001b[39mfor\u001b[39;00m cwe \u001b[39min\u001b[39;00m cwes:\n\u001b[1;32m      <a href='vscode-notebook-cell://ssh-remote%2B151.97.13.187/mnt/storage_6TB/ccurto/create_dataset/test_api.ipynb#W4sdnNjb2RlLXJlbW90ZQ%3D%3D?line=7'>8</a>\u001b[0m     \u001b[39mprint\u001b[39m(\u001b[39m\"\u001b[39m\u001b[39mCollecting CVEs for \u001b[39m\u001b[39m{}\u001b[39;00m\u001b[39m...\u001b[39m\u001b[39m\"\u001b[39m\u001b[39m.\u001b[39mformat(cwe))\n\u001b[0;32m----> <a href='vscode-notebook-cell://ssh-remote%2B151.97.13.187/mnt/storage_6TB/ccurto/create_dataset/test_api.ipynb#W4sdnNjb2RlLXJlbW90ZQ%3D%3D?line=8'>9</a>\u001b[0m     cve \u001b[39m=\u001b[39m nvdlib\u001b[39m.\u001b[39;49msearchCVE(cweId\u001b[39m=\u001b[39;49mcwe)\n\u001b[1;32m     <a href='vscode-notebook-cell://ssh-remote%2B151.97.13.187/mnt/storage_6TB/ccurto/create_dataset/test_api.ipynb#W4sdnNjb2RlLXJlbW90ZQ%3D%3D?line=9'>10</a>\u001b[0m     cve_list\u001b[39m.\u001b[39mappend(cve)\n\u001b[1;32m     <a href='vscode-notebook-cell://ssh-remote%2B151.97.13.187/mnt/storage_6TB/ccurto/create_dataset/test_api.ipynb#W4sdnNjb2RlLXJlbW90ZQ%3D%3D?line=10'>11</a>\u001b[0m     \u001b[39m# sleep for 30 seconds to avoid being blocked (error 503)\u001b[39;00m\n",
      "File \u001b[0;32m~/miniconda3/envs/pytorch/lib/python3.11/site-packages/nvdlib/cve.py:156\u001b[0m, in \u001b[0;36msearchCVE\u001b[0;34m(cpeName, cveId, cvssV2Metrics, cvssV2Severity, cvssV3Metrics, cvssV3Severity, cweId, hasCertAlerts, hasCertNotes, hasKev, hasOval, isVulnerable, keywordExactMatch, keywordSearch, lastModStartDate, lastModEndDate, noRejected, pubStartDate, pubEndDate, sourceIdentifier, versionEnd, versionEndType, versionStart, versionStartType, virtualMatchString, limit, delay, key, verbose)\u001b[0m\n\u001b[1;32m    125\u001b[0m parameters, headers \u001b[39m=\u001b[39m __buildCVECall(\n\u001b[1;32m    126\u001b[0m     cpeName,\n\u001b[1;32m    127\u001b[0m     cveId,\n\u001b[0;32m   (...)\u001b[0m\n\u001b[1;32m    152\u001b[0m     delay,\n\u001b[1;32m    153\u001b[0m     key)\n\u001b[1;32m    155\u001b[0m \u001b[39m# raw is the raw dictionary response.\u001b[39;00m\n\u001b[0;32m--> 156\u001b[0m raw \u001b[39m=\u001b[39m __get(\u001b[39m'\u001b[39;49m\u001b[39mcve\u001b[39;49m\u001b[39m'\u001b[39;49m, headers, parameters, limit, verbose, delay)\n\u001b[1;32m    157\u001b[0m cves \u001b[39m=\u001b[39m []\n\u001b[1;32m    158\u001b[0m \u001b[39m# Generates the CVEs into objects for easy access and appends them to self.cves\u001b[39;00m\n",
      "File \u001b[0;32m~/miniconda3/envs/pytorch/lib/python3.11/site-packages/nvdlib/get.py:37\u001b[0m, in \u001b[0;36m__get\u001b[0;34m(product, headers, parameters, limit, verbose, delay)\u001b[0m\n\u001b[1;32m     35\u001b[0m \u001b[39mif\u001b[39;00m \u001b[39mnot\u001b[39;00m delay:\n\u001b[1;32m     36\u001b[0m     delay \u001b[39m=\u001b[39m \u001b[39m6\u001b[39m\n\u001b[0;32m---> 37\u001b[0m time\u001b[39m.\u001b[39msleep(delay)\n\u001b[1;32m     39\u001b[0m \u001b[39m# If a limit is in the search criteria or the total number of results are less than or equal to the default 2000 that were just requested, return and don't request anymore.\u001b[39;00m\n\u001b[1;32m     40\u001b[0m totalResults \u001b[39m=\u001b[39m raw[\u001b[39m'\u001b[39m\u001b[39mtotalResults\u001b[39m\u001b[39m'\u001b[39m]\n",
      "\u001b[0;31mKeyboardInterrupt\u001b[0m: "
     ]
    }
   ],
   "source": [
    "from itertools import chain\n",
    "from time import sleep\n",
    "owasp_cve = {}\n",
    "for owasp_vul, cwes in owasp_cwe.items():\n",
    "    # collect CVEs for every OWASP vulnerability\n",
    "    cve_list = []\n",
    "    for cwe in cwes:\n",
    "        print(\"Collecting CVEs for {}...\".format(cwe))\n",
    "        cve = nvdlib.searchCVE(cweId=cwe)\n",
    "        cve_list.append(cve)\n",
    "        # sleep for 30 seconds to avoid being blocked (error 503)\n",
    "        sleep(30)\n",
    "    print(\"Done!\")\n",
    "    cve_list = chain.from_iterable(cve_list)\n",
    "    owasp_cve[owasp_vul] = cve_list"
   ]
  },
  {
   "cell_type": "code",
   "execution_count": null,
   "metadata": {},
   "outputs": [],
   "source": [
    "for k, v in owasp_cve.items():\n",
    "    owasp_cve[k] = list(v)\n",
    "\n",
    "owasp_cve"
   ]
  },
  {
   "cell_type": "code",
   "execution_count": null,
   "metadata": {},
   "outputs": [],
   "source": [
    "type(owasp_cve[\"A01_2021-Broken_Access_Control\"])"
   ]
  },
  {
   "cell_type": "code",
   "execution_count": null,
   "metadata": {},
   "outputs": [],
   "source": [
    "print(nvdlib.searchCVE(cweId='CWE-200'))"
   ]
  },
  {
   "cell_type": "code",
   "execution_count": null,
   "metadata": {},
   "outputs": [],
   "source": [
    "ssrf[0].id"
   ]
  },
  {
   "cell_type": "markdown",
   "metadata": {},
   "source": [
    "TODO:\n",
    "\n",
    "* dict di coppie 'owasp vulnerability': 'cve list'\n",
    "* for loop del dict: for k,v in dict.items():\n",
    "* for loop della lista di cve\n",
    "* per ogni cve risalire alla relativa webpage, formato url: 'https://www.cvedetails.com/cve/' + cve id\n",
    "* cve details nella table id 'cvssscorestable', parsing\n",
    "* utilizzare la funzione di scrape_all_the_cve per ottenere i link github (è la stessa page che usano loro)\n",
    "* salvare il csv e poi utilizzare le funzioni per il parsing dei codici da github"
   ]
  },
  {
   "cell_type": "code",
   "execution_count": null,
   "metadata": {},
   "outputs": [],
   "source": [
    "import requests\n",
    "from bs4 import BeautifulSoup\n",
    "\n",
    "# URL della pagina da cui estrarre le informazioni\n",
    "url = 'https://www.cvedetails.com/cve/CVE-2003-1328/'\n",
    "\n",
    "# Effettua la richiesta HTTP alla pagina\n",
    "response = requests.get(url)\n",
    "\n",
    "# Verifica lo stato della richiesta\n",
    "if response.status_code == 200:\n",
    "    # Analizza il codice HTML della pagina\n",
    "    soup = BeautifulSoup(response.text, 'html.parser')\n",
    "    # Estrai le informazioni richieste\n",
    "    cvss_score = soup.find('div', class_='cvssbox').text.strip()\n",
    "    print('CVSS Score:', cvss_score)\n",
    "    confidentiality_impact = soup.find('th', text='Confidentiality Impact').find_next('td').text.strip().split()[0]\n",
    "    print('Confidentiality Impact:', confidentiality_impact)\n",
    "    integrity_impact = soup.find('th', text='Integrity Impact').find_next('td').text.strip().split()[0]\n",
    "    print('Integrity Impact:', integrity_impact)\n",
    "    cwe_id = soup.find('th', text='CWE ID').find_next('td').text.strip()\n",
    "    print('CWE ID:', cwe_id)\n",
    "    if 'CWE-' not in cwe_id:\n",
    "        cwe_id = ''\n",
    "    print('CWE ID: ', cwe_id)\n",
    "    # Stampa le informazioni\n",
    "    #print('CVSS Score:', cvss_score)\n",
    "    #print('Confidentiality Impact:', confidentiality_impact)\n",
    "    #print('Integrity Impact:', integrity_impact)\n",
    "    #print('CWE ID:', cwe_id)\n",
    "else:\n",
    "    print('La richiesta HTTP non è riuscita')"
   ]
  },
  {
   "cell_type": "code",
   "execution_count": null,
   "metadata": {},
   "outputs": [],
   "source": [
    "import pandas as pd\n",
    "\n",
    "path = './csv/cve_data_base.csv'\n",
    "data = pd.read_csv(path)"
   ]
  },
  {
   "cell_type": "code",
   "execution_count": null,
   "metadata": {},
   "outputs": [],
   "source": [
    "data.head()"
   ]
  },
  {
   "cell_type": "code",
   "execution_count": null,
   "metadata": {},
   "outputs": [],
   "source": [
    "len(data)"
   ]
  },
  {
   "cell_type": "code",
   "execution_count": null,
   "metadata": {},
   "outputs": [],
   "source": [
    "len(data[data['codeLink'].notna()])"
   ]
  },
  {
   "cell_type": "code",
   "execution_count": null,
   "metadata": {},
   "outputs": [],
   "source": []
  }
 ],
 "metadata": {
  "kernelspec": {
   "display_name": "pytorch",
   "language": "python",
   "name": "python3"
  },
  "language_info": {
   "codemirror_mode": {
    "name": "ipython",
    "version": 3
   },
   "file_extension": ".py",
   "mimetype": "text/x-python",
   "name": "python",
   "nbconvert_exporter": "python",
   "pygments_lexer": "ipython3",
   "version": "3.11.2"
  },
  "orig_nbformat": 4
 },
 "nbformat": 4,
 "nbformat_minor": 2
}
